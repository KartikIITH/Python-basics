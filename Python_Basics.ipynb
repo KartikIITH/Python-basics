{
  "nbformat": 4,
  "nbformat_minor": 0,
  "metadata": {
    "colab": {
      "provenance": []
    },
    "kernelspec": {
      "name": "python3",
      "display_name": "Python 3"
    },
    "language_info": {
      "name": "python"
    }
  },
  "cells": [
    {
      "cell_type": "code",
      "execution_count": null,
      "metadata": {
        "id": "Ox3ZzFmRgCr1"
      },
      "outputs": [],
      "source": []
    },
    {
      "cell_type": "markdown",
      "source": [
        "1. What is Python, and why is it popular?\n",
        "- Python is a high-level, general-purpose programming language known for its readability and simplicity. It is popular because of its extensive libraries, versatility in various fields (such as web development, data science, machine learning, etc.), and a large supportive community."
      ],
      "metadata": {
        "id": "kvMH0lIKgHHJ"
      }
    },
    {
      "cell_type": "markdown",
      "source": [
        "2. What is an interpreter in Python?\n",
        "- An interpreter in Python is a program that reads Python code line by line, executes it, and provides immediate feedback. This makes Python an interpreted language, unlike compiled languages where code is converted into machine language before execution."
      ],
      "metadata": {
        "id": "CCUgg1iqgSd_"
      }
    },
    {
      "cell_type": "markdown",
      "source": [
        "3. What are pre-defined keywords in Python?\n",
        "- Pre-defined keywords in Python are reserved words with special meanings. They are used to define the syntax and structure of Python programs (e.g., if, else, while, for, def, etc.)."
      ],
      "metadata": {
        "id": "EwK2BInCgTaE"
      }
    },
    {
      "cell_type": "markdown",
      "source": [
        "4. Can keywords be used as variable names?\n",
        "- No, keywords cannot be used as variable names in Python because they are reserved for specific purposes in the language."
      ],
      "metadata": {
        "id": "qM6_v9IqgTWa"
      }
    },
    {
      "cell_type": "markdown",
      "source": [
        "5. What is mutability in Python?\n",
        "- Mutability refers to the ability of an object to be changed after it is created. Mutable objects (like lists) can be modified, while immutable objects (like strings and tuples) cannot."
      ],
      "metadata": {
        "id": "W18c7LN8gS13"
      }
    },
    {
      "cell_type": "markdown",
      "source": [
        "6. Why are lists mutable, but tuples are immutable?\n",
        "- Lists are mutable because they are designed to be dynamic data structures that allow changes. Tuples are immutable to ensure data integrity and allow them to be used as keys in dictionaries (which require hashable objects)."
      ],
      "metadata": {
        "id": "14_RWBRNgJoC"
      }
    },
    {
      "cell_type": "markdown",
      "source": [
        "7. What is the difference between “==” and “is” operators in Python?\n",
        "-\n",
        "\t== compares the values of two objects and returns True if they are equal.\n",
        "\tis compares the identities of two objects and returns True if they refer to the same object in memory.\n",
        "  "
      ],
      "metadata": {
        "id": "ijeYjzu9grNU"
      }
    },
    {
      "cell_type": "markdown",
      "source": [
        "8. What are logical operators in Python?\n",
        "- Logical operators in Python are used to combine conditional statements. The main logical operators are:\n",
        "\t•\tand: Returns True if both operands are true.\n",
        "\t•\tor: Returns True if at least one operand is true.\n",
        "\t•\tnot: Returns True if the operand is false."
      ],
      "metadata": {
        "id": "4Q7w0sB7g1jc"
      }
    },
    {
      "cell_type": "markdown",
      "source": [
        "9. What is type casting in Python?\n",
        "- Type casting is the process of converting one data type into another. For example, converting a string to an integer using int()."
      ],
      "metadata": {
        "id": "jCnjNXsGg9PH"
      }
    },
    {
      "cell_type": "markdown",
      "source": [
        "10. What is the difference between implicit and explicit type casting?\n",
        "-\tImplicit type casting is performed automatically by Python when converting a smaller data type to a larger one (e.g., int to float).\n",
        "Explicit type casting is manually done by the programmer using functions like int(), float(), etc."
      ],
      "metadata": {
        "id": "5CnTycG1g9ke"
      }
    },
    {
      "cell_type": "markdown",
      "source": [
        "11. What is the purpose of conditional statements in Python?\n",
        "- Conditional statements allow a program to make decisions based on certain conditions. They control the flow of execution depending on whether a condition is true or false."
      ],
      "metadata": {
        "id": "radsz16DhFY_"
      }
    },
    {
      "cell_type": "markdown",
      "source": [
        "12. How does the elif statement work?\n",
        "- The elif statement is used for multiple conditions in Python. It allows checking several expressions for truth value, and if one evaluates to True, the corresponding block is executed."
      ],
      "metadata": {
        "id": "l_FdBfW0hFVl"
      }
    },
    {
      "cell_type": "markdown",
      "source": [
        "13. What is the difference between for and while loops?\n",
        "- A for loop iterates over a sequence (like a list, tuple, or range) a specified number of times.\n",
        "A while loop continues to execute as long as a specified condition is true."
      ],
      "metadata": {
        "id": "p7leQx4IhFTA"
      }
    },
    {
      "cell_type": "markdown",
      "source": [
        "14. Describe a scenario where a while loop is more suitable than a for loop.\n",
        "- A while loop is more suitable when the number of iterations is not known in advance and depends on a condition being met during runtime (e.g., reading input until a specific value is entered)."
      ],
      "metadata": {
        "id": "YCwz7r3shFP3"
      }
    },
    {
      "cell_type": "markdown",
      "source": [
        "***Practical Questions***\n"
      ],
      "metadata": {
        "id": "LMX6ZNUzhqSs"
      }
    },
    {
      "cell_type": "code",
      "source": [
        "#1. Write a Python program to print “Hello, World!”\n",
        "print(\"Hello, World!\")"
      ],
      "metadata": {
        "id": "bu-OxZr2hqAN"
      },
      "execution_count": null,
      "outputs": []
    },
    {
      "cell_type": "code",
      "source": [
        "# 2. Write a Python program that displays your name and age.\n",
        "name = \"Kartik\"\n",
        "age = 24\n",
        "print(f\"My name is {name} and I am {age} years old.\")"
      ],
      "metadata": {
        "id": "y_S4pG_xh_yt"
      },
      "execution_count": null,
      "outputs": []
    },
    {
      "cell_type": "code",
      "source": [
        "# 3. Write code to print all the pre-defined keywords in Python using the keyword library.\n",
        "import keyword\n",
        "print(keyword.kwlist)"
      ],
      "metadata": {
        "id": "dewBpYFqiIAj"
      },
      "execution_count": null,
      "outputs": []
    },
    {
      "cell_type": "code",
      "source": [
        "# 4. Write a program that checks if a given word is a Python keyword.\n",
        "import keyword\n",
        "word = input(\"Enter a word: \")\n",
        "if keyword.iskeyword(word):\n",
        "    print(f\"{word} is a Python keyword.\")\n",
        "else:\n",
        "    print(f\"{word} is not a Python keyword.\")"
      ],
      "metadata": {
        "id": "sjfencMkiOlk"
      },
      "execution_count": null,
      "outputs": []
    },
    {
      "cell_type": "code",
      "source": [
        "# 5. Create a list and tuple in Python, and demonstrate how attempting to change an element works differently for each.\n",
        "# List: Mutable\n",
        "my_list = [1, 2, 3]\n",
        "my_list[0] = 10\n",
        "print(\"Modified list:\", my_list)\n",
        "\n",
        "# Tuple: Immutable\n",
        "my_tuple = (1, 2, 3)\n",
        "try:\n",
        "    my_tuple[0] = 10\n",
        "except TypeError as e:\n",
        "    print(\"Error:\", e)"
      ],
      "metadata": {
        "id": "cvhDMz5ziOiw"
      },
      "execution_count": null,
      "outputs": []
    },
    {
      "cell_type": "code",
      "source": [
        "# 6. Write a function to demonstrate the behavior of mutable and immutable arguments.\n",
        "def modify_data(mutable_obj, immutable_obj):\n",
        "    mutable_obj.append(100)\n",
        "    immutable_obj += 100\n",
        "    print(\"Inside function:\", mutable_obj, immutable_obj)\n",
        "\n",
        "my_list = [1, 2, 3]\n",
        "my_num = 10\n",
        "modify_data(my_list, my_num)\n",
        "print(\"Outside function:\", my_list, my_num)"
      ],
      "metadata": {
        "id": "WEUz4GPTiOf2"
      },
      "execution_count": null,
      "outputs": []
    },
    {
      "cell_type": "markdown",
      "source": [
        "6 th and 7th quns are same"
      ],
      "metadata": {
        "id": "CyJ16iIdk5mU"
      }
    },
    {
      "cell_type": "code",
      "source": [
        "# 8. Write a program to demonstrate the use of logical operators.\n",
        "a, b = True, False\n",
        "print(\"a and b:\", a and b)\n",
        "print(\"a or b:\", a or b)\n",
        "print(\"not a:\", not a)"
      ],
      "metadata": {
        "id": "AjnwUYKsiOdP"
      },
      "execution_count": null,
      "outputs": []
    },
    {
      "cell_type": "code",
      "source": [
        "# 9. Write a Python program to convert user input from string to integer, float, and boolean types.\n",
        "user_input = input(\"Enter a value: \")\n",
        "print(\"As integer:\", int(user_input))\n",
        "print(\"As float:\", float(user_input))\n",
        "print(\"As boolean:\", bool(user_input))"
      ],
      "metadata": {
        "id": "iSR1wHKAiOaI"
      },
      "execution_count": null,
      "outputs": []
    },
    {
      "cell_type": "code",
      "source": [
        "# 10. Write code to demonstrate type casting with list elements.\n",
        "my_list = ['1', '2', '3']\n",
        "my_list = [int(x) for x in my_list]\n",
        "print(\"List after type casting:\", my_list)"
      ],
      "metadata": {
        "id": "hrAhqd5GiOEQ"
      },
      "execution_count": null,
      "outputs": []
    },
    {
      "cell_type": "code",
      "source": [
        "# 11. Write a program that checks if a number is positive, negative, or zero.\n",
        "num = int(input(\"Enter a number: \"))\n",
        "if num > 0:\n",
        "    print(\"Positive\")\n",
        "elif num < 0:\n",
        "    print(\"Negative\")\n",
        "else:\n",
        "    print(\"Zero\")"
      ],
      "metadata": {
        "id": "MI-ap-2ejo0V"
      },
      "execution_count": null,
      "outputs": []
    },
    {
      "cell_type": "code",
      "source": [
        "# 12. Write a for loop to print numbers from 1 to 100.\n",
        "for i in range (1,101):\n",
        "  print (i)"
      ],
      "metadata": {
        "id": "Kdd7WTivjouy"
      },
      "execution_count": null,
      "outputs": []
    },
    {
      "cell_type": "code",
      "source": [
        "# 13. Write a Python program to find the sum of all even numbers between 1 and 500.\n",
        "total = sum(i for i in range(1, 501) if i % 2 == 0)\n",
        "print(\"Sum of even numbers:\", total)"
      ],
      "metadata": {
        "id": "1ttZkqWcjop3"
      },
      "execution_count": null,
      "outputs": []
    },
    {
      "cell_type": "code",
      "source": [
        "# 14. Write a program to reverse a string using a while loop.\n",
        "string = input(\"Enter a string: \")\n",
        "reversed_string = \"\"\n",
        "i = len(string) - 1\n",
        "while i >= 0:\n",
        "    reversed_string += string[i]\n",
        "    i -= 1\n",
        "print(\"Reversed string:\", reversed_string)"
      ],
      "metadata": {
        "id": "z7lOoMnLjoLI"
      },
      "execution_count": null,
      "outputs": []
    },
    {
      "cell_type": "code",
      "source": [
        "# 15. Write a Python program to calculate the factorial of a number provided by the user using a while loop.\n",
        "num = int(input(\"Enter a number: \"))\n",
        "factorial = 1\n",
        "i = 1\n",
        "while i <= num:\n",
        "    factorial *= i\n",
        "    i += 1\n",
        "print(\"Factorial:\", factorial)"
      ],
      "metadata": {
        "id": "spfcuxKSkf--"
      },
      "execution_count": null,
      "outputs": []
    }
  ]
}